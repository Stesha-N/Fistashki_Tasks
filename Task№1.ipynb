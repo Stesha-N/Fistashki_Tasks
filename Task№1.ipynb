{
 "cells": [
  {
   "cell_type": "markdown",
   "metadata": {},
   "source": [
    "### Задание 1."
   ]
  },
  {
   "cell_type": "code",
   "execution_count": 134,
   "metadata": {},
   "outputs": [],
   "source": [
    "import pandas as pd\n",
    "df = pd.read_excel('C:/Users/User/Desktop/intro_dataset.xlsx')"
   ]
  },
  {
   "cell_type": "code",
   "execution_count": 135,
   "metadata": {},
   "outputs": [
    {
     "name": "stdout",
     "output_type": "stream",
     "text": [
      "Продано всего апельсинов: 165477\n"
     ]
    }
   ],
   "source": [
    "Total = df['Апельсины'].sum()\n",
    "print (\"Продано всего апельсинов:\", Total)"
   ]
  },
  {
   "cell_type": "code",
   "execution_count": 136,
   "metadata": {},
   "outputs": [
    {
     "name": "stdout",
     "output_type": "stream",
     "text": [
      "Месяц, в котором было продано больше всего мандаринов: август\n"
     ]
    }
   ],
   "source": [
    "Result = '\\n'.join(list(df[df['Мандарины'] == df['Мандарины'].max()]['Дата']))#в случае нескольких месяцев с одинаковыми максимальными значениями \n",
    "print ('Месяц, в котором было продано больше всего мандаринов:', Result)"
   ]
  },
  {
   "cell_type": "markdown",
   "metadata": {},
   "source": [
    "### Задание 2."
   ]
  },
  {
   "cell_type": "code",
   "execution_count": 137,
   "metadata": {},
   "outputs": [],
   "source": [
    "df = pd.read_csv(r'C:\\Users\\User\\Desktop\\intro_dataset_2.txt', header=None)\n",
    "new_df = df.T"
   ]
  },
  {
   "cell_type": "code",
   "execution_count": 141,
   "metadata": {},
   "outputs": [
    {
     "name": "stdout",
     "output_type": "stream",
     "text": [
      "Уникальные позиции:\n",
      "IQOS 3 Multi\n",
      "IQOS 3 Duo\n",
      "IQOS 2.4\n",
      "lil SOLID 2.0\n",
      "lil SOLID\n"
     ]
    }
   ],
   "source": [
    "print ('Уникальные позиции:','\\n'.join(list(new_df[0].unique())), sep = '\\n')"
   ]
  },
  {
   "cell_type": "code",
   "execution_count": 140,
   "metadata": {},
   "outputs": [
    {
     "name": "stdout",
     "output_type": "stream",
     "text": [
      "Сколько раз пользователи покупали тот или иной товар:\n",
      "lil SOLID 2.0    10111\n",
      "IQOS 3 Duo       10047\n",
      "IQOS 3 Multi     10030\n",
      "lil SOLID         9933\n",
      "IQOS 2.4          9879\n",
      "Name: 0, dtype: int64\n"
     ]
    }
   ],
   "source": [
    "print('Сколько раз пользователи покупали тот или иной товар:', new_df[0].value_counts(), sep = '\\n')"
   ]
  }
 ],
 "metadata": {
  "kernelspec": {
   "display_name": "Python 3",
   "language": "python",
   "name": "python3"
  },
  "language_info": {
   "codemirror_mode": {
    "name": "ipython",
    "version": 3
   },
   "file_extension": ".py",
   "mimetype": "text/x-python",
   "name": "python",
   "nbconvert_exporter": "python",
   "pygments_lexer": "ipython3",
   "version": "3.5.4"
  }
 },
 "nbformat": 4,
 "nbformat_minor": 2
}
